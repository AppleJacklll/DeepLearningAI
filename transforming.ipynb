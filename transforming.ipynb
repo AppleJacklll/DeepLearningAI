{
 "cells": [
  {
   "cell_type": "code",
   "execution_count": 2,
   "metadata": {},
   "outputs": [],
   "source": [
    "import warnings\n",
    "warnings.filterwarnings('ignore')\n",
    "\n",
    "from groq import Groq\n",
    "import os\n",
    "\n",
    "from dotenv import load_dotenv, find_dotenv\n",
    "_ = load_dotenv(find_dotenv())\n",
    "client = Groq()"
   ]
  },
  {
   "cell_type": "code",
   "execution_count": 3,
   "metadata": {},
   "outputs": [],
   "source": [
    "def get_completion(prompt, model=\"llama3-70b-8192\"):\n",
    "    messages = [{\n",
    "    \"role\":\"user\", \n",
    "    \"content\":prompt\n",
    "    }]\n",
    "    response = client.chat.completions.create(\n",
    "        model=model,\n",
    "        messages=messages,\n",
    "        temperature=0\n",
    "    )\n",
    "    return response.choices[0].message.content"
   ]
  },
  {
   "cell_type": "code",
   "execution_count": 10,
   "metadata": {},
   "outputs": [
    {
     "name": "stdout",
     "output_type": "stream",
     "text": [
      "```Hola, me gustaría pedir una licuadora```\n"
     ]
    }
   ],
   "source": [
    "text = \"Hi I would like to order a blender\"\n",
    "\n",
    "prompt = f\"\"\"\n",
    "Translate the text in to Spanish, which is delimited with triple backticks \\\n",
    "\n",
    "Don't add any additional introductory sentences.\\\n",
    "\n",
    "Review text:```{text}```\n",
    "\"\"\"\n",
    "\n",
    "response = get_completion(prompt)\n",
    "print(response)"
   ]
  },
  {
   "cell_type": "code",
   "execution_count": 12,
   "metadata": {},
   "outputs": [
    {
     "name": "stdout",
     "output_type": "stream",
     "text": [
      "Here are the translations:\n",
      "\n",
      "**Formal:**\n",
      "Voulez-vous commander un oreiller?\n",
      "\n",
      "**Informal:**\n",
      "Veux-tu commander un oreiller?\n"
     ]
    }
   ],
   "source": [
    "prompt = f\"\"\"\n",
    "Translate the following text to French in both the \\\n",
    "formal and informal forms: \n",
    "'Would you like to order a pillow?'\n",
    "\n",
    "Don't add any additional introductory sentences.\\\n",
    "\"\"\"\n",
    "response = get_completion(prompt)\n",
    "print(response)"
   ]
  },
  {
   "cell_type": "markdown",
   "metadata": {
    "vscode": {
     "languageId": "powershell"
    }
   },
   "source": [
    "#### Universal Translator"
   ]
  },
  {
   "cell_type": "code",
   "execution_count": 13,
   "metadata": {},
   "outputs": [],
   "source": [
    "user_messages = [\n",
    "  \"La performance du système est plus lente que d'habitude.\",  # System performance is slower than normal         \n",
    "  \"Mi monitor tiene píxeles que no se iluminan.\",              # My monitor has pixels that are not lighting\n",
    "  \"Il mio mouse non funziona\",                                 # My mouse is not working\n",
    "  \"Mój klawisz Ctrl jest zepsuty\",                             # My keyboard has a broken control key\n",
    "  \"我的屏幕在闪烁\"                                               # My screen is flashing\n",
    "] "
   ]
  },
  {
   "cell_type": "code",
   "execution_count": 17,
   "metadata": {},
   "outputs": [
    {
     "name": "stdout",
     "output_type": "stream",
     "text": [
      "Origianl message (The language is French.):La performance du système est plus lente que d'habitude.\n",
      "Here are the translations:\n",
      "\n",
      "**English:** The system's performance is slower than usual.\n",
      "\n",
      "**Korean:** . \n",
      "\n",
      "Origianl message (This is Spanish.):Mi monitor tiene píxeles que no se iluminan.\n",
      "Here are the translations:\n",
      "\n",
      "**English:** My monitor has pixels that don't light up.\n",
      "\n",
      "**Korean:** . \n",
      "\n",
      "Origianl message (That's Italian!\n",
      "\n",
      "The sentence \"Il mio mouse non funziona\" translates to \"My mouse doesn't work\" in English.):Il mio mouse non funziona\n",
      "Here are the translations:\n",
      "\n",
      "**English:** My mouse is not working.\n",
      "\n",
      "**Korean:** . \n",
      "\n",
      "Origianl message (A nice one!\n",
      "\n",
      "The language is Polish.\n",
      "\n",
      "Translation: \"My Ctrl key is broken.\"):Mój klawisz Ctrl jest zepsuty\n",
      "Here are the translations:\n",
      "\n",
      "**English:** My Ctrl key is broken.\n",
      "\n",
      "**Korean:** . \n",
      "\n",
      "Origianl message (A nice one! 😊\n",
      "\n",
      "The language is Chinese, specifically Simplified Chinese.\n",
      "\n",
      "Here's a breakdown of the characters:\n",
      "\n",
      "* 我 (wǒ) - I, me\n",
      "* 的 (de) - possessive particle\n",
      "* 屏幕 (píng mù) - screen\n",
      "* 在 (zài) - in, on\n",
      "* 闪烁 (shǎn shuǎi) - to flicker, to flash\n",
      "\n",
      "So, the sentence \"我的屏幕在闪烁\" means \"My screen is flickering\".):我的屏幕在闪烁\n",
      "Here are the translations:\n",
      "\n",
      "**English:** My screen is flickering.\n",
      "\n",
      "**Korean:** , . \n",
      "\n"
     ]
    }
   ],
   "source": [
    "for issue in user_messages:\n",
    "    prompt = f\"Tell me what language this is: ```{issue}```\"\n",
    "    lang = get_completion(prompt)\n",
    "    print(f'Origianl message ({lang}):{issue}')\n",
    "\n",
    "    prompt = f\"\"\"\n",
    "    Translate the following text into English and Korean: \\\n",
    "    ```{issue}```\n",
    "\n",
    "    Don't add any additional introductory sentences.\\  \n",
    "    \"\"\"\n",
    "\n",
    "    response = get_completion(prompt)\n",
    "    print(response, \"\\n\")"
   ]
  },
  {
   "cell_type": "code",
   "execution_count": 18,
   "metadata": {},
   "outputs": [
    {
     "name": "stdout",
     "output_type": "stream",
     "text": [
      "Here is a possible translation:\n",
      "\n",
      "Dear Sir/Madam,\n",
      "\n",
      "I am writing to bring to your attention a product specification that I believe warrants your consideration. Specifically, I would like to draw your attention to a standing lamp that I think has great potential.\n",
      "\n",
      "Sincerely,\n",
      "Joe\n"
     ]
    }
   ],
   "source": [
    "prompt = f\"\"\"\n",
    "Translate the following from slang to a business letter: \n",
    "'Dude, This is Joe, check out this spec on this standing lamp.'\n",
    "\"\"\"\n",
    "response = get_completion(prompt)\n",
    "print(response)"
   ]
  },
  {
   "cell_type": "markdown",
   "metadata": {},
   "source": [
    "#### Format Conversation"
   ]
  },
  {
   "cell_type": "code",
   "execution_count": 23,
   "metadata": {},
   "outputs": [
    {
     "name": "stdout",
     "output_type": "stream",
     "text": [
      "<table>\n",
      "  <caption>Resturant Employees</caption>\n",
      "  <tr>\n",
      "    <th>Name</th>\n",
      "    <th>Email</th>\n",
      "  </tr>\n",
      "  <tr>\n",
      "    <td>Shyam</td>\n",
      "    <td>shyamjaiswal@gmail.com</td>\n",
      "  </tr>\n",
      "  <tr>\n",
      "    <td>Bob</td>\n",
      "    <td>bob32@gmail.com</td>\n",
      "  </tr>\n",
      "  <tr>\n",
      "    <td>Jai</td>\n",
      "    <td>jai87@gmail.com</td>\n",
      "  </tr>\n",
      "</table>\n"
     ]
    }
   ],
   "source": [
    "data_json = { \"resturant employees\" :[ \n",
    "    {\"name\":\"Shyam\", \"email\":\"shyamjaiswal@gmail.com\"},\n",
    "    {\"name\":\"Bob\", \"email\":\"bob32@gmail.com\"},\n",
    "    {\"name\":\"Jai\", \"email\":\"jai87@gmail.com\"}\n",
    "]}\n",
    "\n",
    "prompt = f\"\"\"\n",
    "Convert the following python dictionary from JSON to an HTML \\\n",
    "table with coloum headers and title: {data_json}\n",
    "\n",
    "Only provide the table don't provide any introductional sentences.\n",
    "\"\"\" \n",
    "\n",
    "response = get_completion(prompt)\n",
    "print(response)"
   ]
  },
  {
   "cell_type": "code",
   "execution_count": 24,
   "metadata": {},
   "outputs": [
    {
     "data": {
      "text/html": [
       "<table>\n",
       "  <caption>Resturant Employees</caption>\n",
       "  <tr>\n",
       "    <th>Name</th>\n",
       "    <th>Email</th>\n",
       "  </tr>\n",
       "  <tr>\n",
       "    <td>Shyam</td>\n",
       "    <td>shyamjaiswal@gmail.com</td>\n",
       "  </tr>\n",
       "  <tr>\n",
       "    <td>Bob</td>\n",
       "    <td>bob32@gmail.com</td>\n",
       "  </tr>\n",
       "  <tr>\n",
       "    <td>Jai</td>\n",
       "    <td>jai87@gmail.com</td>\n",
       "  </tr>\n",
       "</table>"
      ],
      "text/plain": [
       "<IPython.core.display.HTML object>"
      ]
     },
     "metadata": {},
     "output_type": "display_data"
    }
   ],
   "source": [
    "from IPython.display import display, Markdown, Latex, HTML, JSON\n",
    "display(HTML(response))"
   ]
  },
  {
   "cell_type": "markdown",
   "metadata": {},
   "source": [
    "#### Spellchekc/Grammar check\n",
    "\n"
   ]
  },
  {
   "cell_type": "code",
   "execution_count": 25,
   "metadata": {},
   "outputs": [
    {
     "name": "stdout",
     "output_type": "stream",
     "text": [
      "I found an error in the text. Here is the corrected version:\n",
      "\n",
      "The girl with the black and white puppies has a ball.\n",
      "\n",
      "The error was a subject-verb agreement error. The subject \"girl\" is singular, so the verb \"has\" should be used instead of \"have\".\n",
      "No errors found.\n",
      "I found two errors in the text:\n",
      "\n",
      "* \"Its\" should be \"It's\" (contraction for \"it is\")\n",
      "* \"it’s\" should be \"its\" (possessive form)\n",
      "\n",
      "Here is the corrected text:\n",
      "\n",
      "It's going to be a long day Does the car need its oil changed\n",
      "I found some errors!\n",
      "\n",
      "Here is the corrected text:\n",
      "\n",
      "There goes my freedom They're going to bring their suitcases.\n",
      "\n",
      "Corrected errors:\n",
      "\n",
      "* \"Their\" should be \"There\" (correct spelling)\n",
      "* \"There\" should be \"They're\" (contraction for \"they are\")\n",
      "* \"they're\" should be \"their\" (possessive pronoun)\n",
      "I found an error!\n",
      "\n",
      "The corrected text is:\n",
      "```\n",
      "You're going to need your notebook.\n",
      "```\n",
      "The errors were:\n",
      "\n",
      "* \"You're\" was written as \"Your\" (possessive adjective instead of contraction)\n",
      "* \"you're\" was written as \"you’re\" ( incorrect use of apostrophe)\n",
      "* \"you’re\" should be \"your\" (possessive adjective)\n",
      "I found two errors in the text:\n",
      "\n",
      "* \"effects\" should be \"affects\" (subject-verb agreement)\n",
      "* \"affect\" should be \"effect\" (correct spelling)\n",
      "\n",
      "Here is the corrected text:\n",
      "\n",
      "That medicine affects my ability to sleep Have you heard of the butterfly effect\n",
      "I found some errors!\n",
      "\n",
      "Here is the corrected text:\n",
      "\n",
      "This phrase is to check chatGPT for spelling ability\n"
     ]
    }
   ],
   "source": [
    "text = [ \n",
    "  \"The girl with the black and white puppies have a ball.\",  # The girl has a ball.\n",
    "  \"Yolanda has her notebook.\", # ok\n",
    "  \"Its going to be a long day. Does the car need it’s oil changed?\",  # Homonyms\n",
    "  \"Their goes my freedom. There going to bring they’re suitcases.\",  # Homonyms\n",
    "  \"Your going to need you’re notebook.\",  # Homonyms\n",
    "  \"That medicine effects my ability to sleep. Have you heard of the butterfly affect?\", # Homonyms\n",
    "  \"This phrase is to cherck chatGPT for speling abilitty\"  # spelling\n",
    "]\n",
    "for t in text:\n",
    "    prompt = f\"\"\"Proofread and correct the following text\n",
    "    and rewrite the corrected version. If you don't find\n",
    "    and errors, just say \"No errors found\". Don't use \n",
    "    any punctuation around the text:\n",
    "    ```{t}```\"\"\"\n",
    "    response = get_completion(prompt)\n",
    "    print(response)"
   ]
  },
  {
   "cell_type": "code",
   "execution_count": null,
   "metadata": {},
   "outputs": [],
   "source": []
  }
 ],
 "metadata": {
  "kernelspec": {
   "display_name": "Python 3",
   "language": "python",
   "name": "python3"
  },
  "language_info": {
   "codemirror_mode": {
    "name": "ipython",
    "version": 3
   },
   "file_extension": ".py",
   "mimetype": "text/x-python",
   "name": "python",
   "nbconvert_exporter": "python",
   "pygments_lexer": "ipython3",
   "version": "3.12.0"
  }
 },
 "nbformat": 4,
 "nbformat_minor": 2
}
