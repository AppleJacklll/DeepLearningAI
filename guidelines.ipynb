{
 "cells": [
  {
   "cell_type": "code",
   "execution_count": 1,
   "metadata": {},
   "outputs": [],
   "source": [
    "import warnings\n",
    "warnings.filterwarnings('ignore')"
   ]
  },
  {
   "cell_type": "code",
   "execution_count": 2,
   "metadata": {},
   "outputs": [],
   "source": [
    "from groq import Groq\n",
    "import os\n",
    "\n",
    "from dotenv import load_dotenv, find_dotenv\n",
    "_ = load_dotenv(find_dotenv())\n",
    "client = Groq()"
   ]
  },
  {
   "cell_type": "code",
   "execution_count": 3,
   "metadata": {},
   "outputs": [],
   "source": [
    "# 1.clear and sepcific instructions\n",
    "# 2.give model time to think\n",
    "\n",
    "def get_completion(prompt, model=\"llama3-70b-8192\"):\n",
    "    messages = [{\n",
    "        \"role\":\"user\", \n",
    "        \"content\":prompt\n",
    "        }]\n",
    "    response = client.chat.completions.create(\n",
    "        model=model,\n",
    "        messages=messages,\n",
    "        temperature=0\n",
    "    )\n",
    "    return response.choices[0].message.content\n",
    "\n",
    "#1.clear and sepcific instructions\n",
    "# Tactic 1: Use delimiters\n",
    "    # Triple quotes: \"\"\"\n",
    "    # Triple backticks: ```\n",
    "    # Triple dashes: ---\n",
    "    # Angle brackets: <>\n",
    "    # XML tags: <tag></tag>\n",
    "# clear punctuations that seperate list of text from the rest\n",
    "# avoid prompt ingections\n"
   ]
  },
  {
   "cell_type": "code",
   "execution_count": 4,
   "metadata": {},
   "outputs": [
    {
     "name": "stdout",
     "output_type": "stream",
     "text": [
      "To get the desired output from a model, provide clear and specific instructions in your prompt, which may require a longer prompt to provide sufficient clarity and context.\n"
     ]
    }
   ],
   "source": [
    "text = f\"\"\"\n",
    "You should express what you want a model to do by \\ \n",
    "providing instructions that are as clear and \\ \n",
    "specific as you can possibly make them. \\ \n",
    "This will guide the model towards the desired output, \\ \n",
    "and reduce the chances of receiving irrelevant \\ \n",
    "or incorrect responses. Don't confuse writing a \\ \n",
    "clear prompt with writing a short prompt. \\ \n",
    "In many cases, longer prompts provide more clarity \\ \n",
    "and context for the model, which can lead to \\ \n",
    "more detailed and relevant outputs.\n",
    "\"\"\"\n",
    "prompt = f\"\"\"\n",
    "Summarize the text delimited by triple backticks \\ \n",
    "into a single sentence.\n",
    "```{text}```\n",
    "\"\"\"\n",
    "response = get_completion(prompt)\n",
    "print(response)"
   ]
  },
  {
   "cell_type": "code",
   "execution_count": 5,
   "metadata": {},
   "outputs": [
    {
     "name": "stdout",
     "output_type": "stream",
     "text": [
      "Here are three made-up book titles along with their authors and genres in JSON format:\n",
      "\n",
      "```\n",
      "[\n",
      "  {\n",
      "    \"book_id\": 1,\n",
      "    \"title\": \"The Whispering Walls\",\n",
      "    \"author\": \"Evelyn Wychwood\",\n",
      "    \"genre\": \"Mystery\"\n",
      "  },\n",
      "  {\n",
      "    \"book_id\": 2,\n",
      "    \"title\": \"Starlight Serenade\",\n",
      "    \"author\": \"Luna Nightingale\",\n",
      "    \"genre\": \"Romance\"\n",
      "  },\n",
      "  {\n",
      "    \"book_id\": 3,\n",
      "    \"title\": \"The Quantum Prophecy\",\n",
      "    \"author\": \"Cassius Blackwood\",\n",
      "    \"genre\": \"Science Fiction\"\n",
      "  }\n",
      "]\n",
      "```\n",
      "\n",
      "Let me know if you need anything else!\n"
     ]
    }
   ],
   "source": [
    "# Ask for structured output\n",
    "\n",
    "prompt = f\"\"\"\n",
    "Generate a list of three made-up book titles along \\ \n",
    "with their authors and genres. \n",
    "Provide them in JSON format with the following keys: \n",
    "book_id, title, author, genre.\n",
    "\"\"\"\n",
    "response = get_completion(prompt)\n",
    "print(response)"
   ]
  },
  {
   "cell_type": "code",
   "execution_count": 6,
   "metadata": {},
   "outputs": [
    {
     "name": "stdout",
     "output_type": "stream",
     "text": [
      "Completion for Text 1:\n",
      "Here are the instructions rewritten in the requested format:\n",
      "\n",
      "Step 1 - Get some water boiling.\n",
      "Step 2 - Grab a cup and put a tea bag in it.\n",
      "Step 3 - Once the water is hot enough, pour it over the tea bag.\n",
      "Step 4 - Let it sit for a bit so the tea can steep.\n",
      "Step 5 - After a few minutes, take out the tea bag.\n",
      "Step 6 - If desired, add some sugar or milk to taste.\n",
      "Step 7 - Enjoy your delicious cup of tea!\n"
     ]
    }
   ],
   "source": [
    "# check wether conditions are satisfied\n",
    "\n",
    "text_1 = f\"\"\"\n",
    "Making a cup of tea is easy! First, you need to get some \\ \n",
    "water boiling. While that's happening, \\ \n",
    "grab a cup and put a tea bag in it. Once the water is \\ \n",
    "hot enough, just pour it over the tea bag. \\ \n",
    "Let it sit for a bit so the tea can steep. After a \\ \n",
    "few minutes, take out the tea bag. If you \\ \n",
    "like, you can add some sugar or milk to taste. \\ \n",
    "And that's it! You've got yourself a delicious \\ \n",
    "cup of tea to enjoy.\n",
    "\"\"\"\n",
    "prompt = f\"\"\"\n",
    "You will be provided with text delimited by triple quotes. \n",
    "If it contains a sequence of instructions, \\ \n",
    "re-write those instructions in the following format:\n",
    "\n",
    "Step 1 - ...\n",
    "Step 2 - …\n",
    "…\n",
    "Step N - …\n",
    "\n",
    "If the text does not contain a sequence of instructions, \\ \n",
    "then simply write \\\"No steps provided.\\\"\n",
    "\n",
    "\\\"\\\"\\\"{text_1}\\\"\\\"\\\"\n",
    "\"\"\"\n",
    "response = get_completion(prompt)\n",
    "print(\"Completion for Text 1:\")\n",
    "print(response)"
   ]
  },
  {
   "cell_type": "code",
   "execution_count": 7,
   "metadata": {},
   "outputs": [
    {
     "name": "stdout",
     "output_type": "stream",
     "text": [
      "Completion for Text 2:\n",
      "No steps provided.\n"
     ]
    }
   ],
   "source": [
    "text_2 = f\"\"\"\n",
    "The sun is shining brightly today, and the birds are \\\n",
    "singing. It's a beautiful day to go for a \\ \n",
    "walk in the park. The flowers are blooming, and the \\ \n",
    "trees are swaying gently in the breeze. People \\ \n",
    "are out and about, enjoying the lovely weather. \\ \n",
    "Some are having picnics, while others are playing \\ \n",
    "games or simply relaxing on the grass. It's a \\ \n",
    "perfect day to spend time outdoors and appreciate the \\ \n",
    "beauty of nature.\n",
    "\"\"\"\n",
    "prompt = f\"\"\"\n",
    "You will be provided with text delimited by triple quotes. \n",
    "If it contains a sequence of instructions, \\ \n",
    "re-write those instructions in the following format:\n",
    "\n",
    "Step 1 - ...\n",
    "Step 2 - …\n",
    "…\n",
    "Step N - …\n",
    "\n",
    "If the text does not contain a sequence of instructions, \\ \n",
    "then simply write \\\"No steps provided.\\\"\n",
    "\n",
    "\\\"\\\"\\\"{text_2}\\\"\\\"\\\"\n",
    "\"\"\"\n",
    "response = get_completion(prompt)\n",
    "print(\"Completion for Text 2:\")\n",
    "print(response)"
   ]
  },
  {
   "cell_type": "code",
   "execution_count": 8,
   "metadata": {},
   "outputs": [
    {
     "name": "stdout",
     "output_type": "stream",
     "text": [
      "<grandparent>: The tree that stands tall in the storm has roots that dig deep into the earth; the flame that burns brightest has been tempered by the fiercest of winds; the mountain that touches the sky has been shaped by the relentless forces of time.\n"
     ]
    }
   ],
   "source": [
    "# Few-shot prompting\n",
    "# Give successful example of completing tasks then ask model to perform task\n",
    "\n",
    "prompt = f\"\"\"\n",
    "Your task is to answer in a consistent style.\n",
    "\n",
    "<child>: Teach me about patience.\n",
    "\n",
    "<grandparent>: The river that carves the deepest \\ \n",
    "valley flows from a modest spring; the \\ \n",
    "grandest symphony originates from a single note; \\ \n",
    "the most intricate tapestry begins with a solitary thread.\n",
    "\n",
    "<child>: Teach me about resilience.\n",
    "\"\"\"\n",
    "response = get_completion(prompt)\n",
    "print(response)"
   ]
  },
  {
   "cell_type": "code",
   "execution_count": 9,
   "metadata": {},
   "outputs": [
    {
     "name": "stdout",
     "output_type": "stream",
     "text": [
      "Completion for prompt 1\n",
      "Here are the answers:\n",
      "\n",
      "**Summary in English**\n",
      "Jack and Jill go on a quest to fetch water from a hilltop well, but they trip and fall, and despite the mishap, they continue exploring with delight.\n",
      "\n",
      "**Summary in French**\n",
      "Jack et Jill entreprennent une quête pour aller chercher de l'eau à un puits sur une colline, mais ils trébuchent et tombent, et malgré l'accident, ils continuent d'explorer avec délice.\n",
      "\n",
      "**List of names in French summary**\n",
      "1. Jack\n",
      "2. Jill\n",
      "\n",
      "**JSON Object**\n",
      "{\n",
      "\"french_summary\": \"Jack et Jill entreprennent une quête pour aller chercher de l'eau à un puits sur une colline, mais ils trébuchent et tombent, et malgré l'accident, ils continuent d'explorer avec délice.\",\n",
      "\"num_names\": 2\n",
      "}\n"
     ]
    }
   ],
   "source": [
    "# 2. Give the model time to think\n",
    "\n",
    "text = f\"\"\"\n",
    "In a charming village, siblings Jack and Jill set out on \\ \n",
    "a quest to fetch water from a hilltop \\ \n",
    "well. As they climbed, singing joyfully, misfortune \\ \n",
    "struck—Jack tripped on a stone and tumbled \\ \n",
    "down the hill, with Jill following suit. \\ \n",
    "Though slightly battered, the pair returned home to \\ \n",
    "comforting embraces. Despite the mishap, \\ \n",
    "their adventurous spirits remained undimmed, and they \\ \n",
    "continued exploring with delight.\n",
    "\"\"\"\n",
    "# example 1\n",
    "prompt_1 = f\"\"\"\n",
    "Perform the following actions: \n",
    "1 - Summarize the following text delimited by triple \\\n",
    "backticks with 1 sentence.\n",
    "2 - Translate the summary into French.\n",
    "3 - List each name in the French summary.\n",
    "4 - Output a json object that contains the following \\\n",
    "keys: french_summary, num_names.\n",
    "\n",
    "Separate your answers with line breaks.\n",
    "\n",
    "Text:\n",
    "```{text}```\n",
    "\"\"\"\n",
    "\n",
    "response = get_completion(prompt_1)\n",
    "print(\"Completion for prompt 1\")\n",
    "print(response)"
   ]
  },
  {
   "cell_type": "code",
   "execution_count": 10,
   "metadata": {},
   "outputs": [
    {
     "name": "stdout",
     "output_type": "stream",
     "text": [
      "\n",
      "Completion for prompt 2:\n",
      "Here is the output:\n",
      "\n",
      "Text: <In a charming village, siblings Jack and Jill set out on a quest to fetch water from a hilltop well. As they climbed, singing joyfully, misfortune struck—Jack tripped on a stone and tumbled down the hill, with Jill following suit. Though slightly battered, the pair returned home to comforting embraces. Despite the mishap, their adventurous spirits remained undimmed, and they continued exploring with delight.>\n",
      "\n",
      "Summary: Jack and Jill's adventure to fetch water from a hilltop well ends in a tumble down the hill, but they remain undeterred.\n",
      "\n",
      "Translation: Jack et Jill ont fait une aventure pour aller chercher de l'eau à un puits sur une colline, mais cela s'est terminé par une chute dans la colline, mais ils sont restés intrépides.\n",
      "\n",
      "Names: ['Jack', 'Jill']\n",
      "\n",
      "Output JSON: {\"french_summary\": \"Jack et Jill ont fait une aventure pour aller chercher de l'eau à un puits sur une colline, mais cela s'est terminé par une chute dans la colline, mais ils sont restés intrépides.\", \"num_names\": 2}\n"
     ]
    }
   ],
   "source": [
    "prompt_2 = f\"\"\"\n",
    "Your task is to perform the following actions: \n",
    "1 - Summarize the following text delimited by \n",
    "  <> with 1 sentence.\n",
    "2 - Translate the summary into French.\n",
    "3 - List each name in the French summary.\n",
    "4 - Output a json object that contains the \n",
    "  following keys: french_summary, num_names.\n",
    "\n",
    "Use the following format:\n",
    "Text: <text to summarize>\n",
    "Summary: <summary>\n",
    "Translation: <summary translation>\n",
    "Names: <list of names in summary>\n",
    "Output JSON: <json with summary and num_names>\n",
    "\n",
    "Text: <{text}>\n",
    "\"\"\"\n",
    "\n",
    "response = get_completion(prompt_2)\n",
    "print(\"\\nCompletion for prompt 2:\")\n",
    "print(response)"
   ]
  },
  {
   "cell_type": "code",
   "execution_count": 11,
   "metadata": {},
   "outputs": [
    {
     "name": "stdout",
     "output_type": "stream",
     "text": [
      "Let's break down the student's solution:\n",
      "\n",
      "1. Land cost: Correct, the land cost is $100 per square foot, so the total land cost is indeed 100x.\n",
      "2. Solar panel cost: Correct, the solar panel cost is $250 per square foot, so the total solar panel cost is indeed 250x.\n",
      "3. Maintenance cost: Correct, the maintenance cost has a fixed component of $100,000 per year, and a variable component of $10 per square foot, so the total maintenance cost is indeed 100,000 + 10x. However, the student wrote 100x instead of 10x, which is an error.\n",
      "\n",
      "Now, let's calculate the total cost:\n",
      "\n",
      "Total cost = Land cost + Solar panel cost + Maintenance cost\n",
      "= 100x + 250x + 100,000 + 10x\n",
      "= 360x + 100,000\n",
      "\n",
      "The student's solution has an error in the maintenance cost term, which affects the total cost. The correct total cost is 360x + 100,000, not 450x + 100,000.\n",
      "\n",
      "Therefore, the student's solution is incorrect due to the mistake in the maintenance cost term.\n"
     ]
    }
   ],
   "source": [
    "# Instruct the model to work out its own solution before rushing to a conclusion\n",
    "\n",
    "prompt = f\"\"\"\n",
    "Determine if the student's solution is correct or not.\n",
    "\n",
    "Question:\n",
    "I'm building a solar power installation and I need \\\n",
    " help working out the financials. \n",
    "- Land costs $100 / square foot\n",
    "- I can buy solar panels for $250 / square foot\n",
    "- I negotiated a contract for maintenance that will cost \\ \n",
    "me a flat $100k per year, and an additional $10 / square \\\n",
    "foot\n",
    "What is the total cost for the first year of operations \n",
    "as a function of the number of square feet.\n",
    "\n",
    "Student's Solution:\n",
    "Let x be the size of the installation in square feet.\n",
    "Costs:\n",
    "1. Land cost: 100x\n",
    "2. Solar panel cost: 250x\n",
    "3. Maintenance cost: 100,000 + 100x\n",
    "Total cost: 100x + 250x + 100,000 + 100x = 450x + 100,000\n",
    "\"\"\"\n",
    "\n",
    "response = get_completion(prompt)\n",
    "print(response)"
   ]
  },
  {
   "cell_type": "code",
   "execution_count": 12,
   "metadata": {},
   "outputs": [
    {
     "name": "stdout",
     "output_type": "stream",
     "text": [
      "Here is the solution:\n",
      "\n",
      "Question:\n",
      "```\n",
      "I'm building a solar power installation and I need help working out the financials. \n",
      "- Land costs $100 / square foot\n",
      "- I can buy solar panels for $250 / square foot\n",
      "- I negotiated a contract for maintenance that will cost me a flat $100k per year, and an additional $10 / square foot\n",
      "What is the total cost for the first year of operations as a function of the number of square feet.\n",
      "```\n",
      "Student's solution:\n",
      "```\n",
      "Let x be the size of the installation in square feet.\n",
      "Costs:\n",
      "1. Land cost: 100x\n",
      "2. Solar panel cost: 250x\n",
      "3. Maintenance cost: 100,000 + 10x\n",
      "Total cost: 100x + 250x + 100,000 + 10x = 360x + 100,000\n",
      "```\n",
      "Actual solution:\n",
      "Let x be the size of the installation in square feet.\n",
      "\n",
      "Costs:\n",
      "1. Land cost: 100x\n",
      "2. Solar panel cost: 250x\n",
      "3. Maintenance cost: 100,000 + 10x\n",
      "Total cost: 100x + 250x + 100,000 + 10x = 360x + 100,000\n",
      "\n",
      "Is the student's solution the same as actual solution just calculated:\n",
      "```\n",
      "no\n",
      "```\n",
      "Student grade:\n",
      "```\n",
      "incorrect\n",
      "```\n",
      "Note: The student's solution has a mistake in the maintenance cost, it should be 10x instead of 100x.\n"
     ]
    }
   ],
   "source": [
    "prompt = f\"\"\"\n",
    "Your task is to determine if the student's solution \\\n",
    "is correct or not.\n",
    "To solve the problem do the following:\n",
    "- First, work out your own solution to the problem including the final total. \n",
    "- Then compare your solution to the student's solution \\ \n",
    "and evaluate if the student's solution is correct or not. \n",
    "Don't decide if the student's solution is correct until \n",
    "you have done the problem yourself.\n",
    "\n",
    "Use the following format:\n",
    "Question:\n",
    "```\n",
    "question here\n",
    "```\n",
    "Student's solution:\n",
    "```\n",
    "student's solution here\n",
    "```\n",
    "Actual solution:\n",
    "```\n",
    "steps to work out the solution and your solution here\n",
    "```\n",
    "Is the student's solution the same as actual solution \\\n",
    "just calculated:\n",
    "```\n",
    "yes or no\n",
    "```\n",
    "Student grade:\n",
    "```\n",
    "correct or incorrect\n",
    "```\n",
    "\n",
    "Question:\n",
    "```\n",
    "I'm building a solar power installation and I need help \\\n",
    "working out the financials. \n",
    "- Land costs $100 / square foot\n",
    "- I can buy solar panels for $250 / square foot\n",
    "- I negotiated a contract for maintenance that will cost \\\n",
    "me a flat $100k per year, and an additional $10 / square \\\n",
    "foot\n",
    "What is the total cost for the first year of operations \\\n",
    "as a function of the number of square feet.\n",
    "``` \n",
    "Student's solution:\n",
    "```\n",
    "Let x be the size of the installation in square feet.\n",
    "Costs:\n",
    "1. Land cost: 100x\n",
    "2. Solar panel cost: 250x\n",
    "3. Maintenance cost: 100,000 + 100x\n",
    "Total cost: 100x + 250x + 100,000 + 100x = 450x + 100,000\n",
    "```\n",
    "Actual solution:\n",
    "\"\"\"\n",
    "response = get_completion(prompt)\n",
    "print(response)"
   ]
  },
  {
   "cell_type": "code",
   "execution_count": 13,
   "metadata": {},
   "outputs": [
    {
     "name": "stdout",
     "output_type": "stream",
     "text": [
      "The AeroGlide UltraSlim Smart Toothbrush by Boie is a high-tech oral care device that combines advanced features with a sleek and compact design. Here are some of its key features:\n",
      "\n",
      "**Design and Ergonomics**: The AeroGlide UltraSlim is designed to be ultra-slim and lightweight, making it easy to maneuver and comfortable to hold. The ergonomic design fits comfortably in the hand, allowing for precise control and easy access to all areas of the mouth.\n",
      "\n",
      "**Advanced Brush Head Technology**: The toothbrush features Boie's proprietary AeroGlide technology, which uses a unique combination of bristle patterns and angles to effectively remove plaque, bacteria, and food particles from the teeth. The brush head is also designed to be gentle on gums and teeth.\n",
      "\n",
      "**Smart Features**: The AeroGlide UltraSlim is a smart toothbrush that connects to your smartphone via Bluetooth. The accompanying app (available for iOS and Android) tracks your brushing habits, providing personalized feedback and insights to help you improve your oral care routine.\n",
      "\n",
      "**Features and Modes**: The toothbrush offers multiple brushing modes, including:\n",
      "\n",
      "* **Whitening Mode**: Gentle and effective cleaning for a brighter smile\n",
      "* **Deep Clean Mode**: Intensive cleaning for areas with heavy plaque buildup\n",
      "* **Gentle Mode**: Soothing and gentle cleaning for sensitive teeth and gums\n",
      "* **Massage Mode**: Gentle vibrations to stimulate blood flow and gum health\n",
      "\n",
      "**Other Features**:\n",
      "\n",
      "* **QuadPulse Technology**: Four distinct brushing zones for a more thorough cleaning\n",
      "* **Timed Brushing**: Ensures you brush for the recommended 2 minutes\n",
      "* **Pressure Sensor**: Alerts you if you're brushing too hard, helping to prevent gum damage\n",
      "* **Battery Life**: Up to 2 weeks of battery life on a single charge\n",
      "* **Travel Case**: Compact and convenient travel case for on-the-go oral care\n",
      "\n",
      "**Additional Benefits**:\n",
      "\n",
      "* **Water-resistant**: IPX7 rating ensures the toothbrush can withstand accidental splashes and rinsing\n",
      "* **Easy Cleaning**: The toothbrush head is easy to remove and clean, reducing bacterial buildup\n",
      "* **Sustainable**: The AeroGlide UltraSlim is designed with eco-friendliness in mind, using recyclable materials and minimizing waste\n",
      "\n",
      "Overall, the AeroGlide UltraSlim Smart Toothbrush by Boie is a cutting-edge oral care device that combines advanced technology with a focus on comfort, effectiveness, and sustainability.\n"
     ]
    }
   ],
   "source": [
    "# MODEL LIMIATIONS: HALLUCINATIONS\n",
    "\n",
    "prompt = f\"\"\"\n",
    "Tell me about AeroGlide UltraSlim Smart Toothbrush by Boie\n",
    "\"\"\"\n",
    "response = get_completion(prompt)\n",
    "print(response)"
   ]
  },
  {
   "cell_type": "code",
   "execution_count": null,
   "metadata": {},
   "outputs": [],
   "source": [
    "# Reducing hallucinations\n",
    "# First find relevant info, then answer the question based on them"
   ]
  },
  {
   "cell_type": "code",
   "execution_count": null,
   "metadata": {},
   "outputs": [],
   "source": []
  }
 ],
 "metadata": {
  "kernelspec": {
   "display_name": "Python 3",
   "language": "python",
   "name": "python3"
  },
  "language_info": {
   "codemirror_mode": {
    "name": "ipython",
    "version": 3
   },
   "file_extension": ".py",
   "mimetype": "text/x-python",
   "name": "python",
   "nbconvert_exporter": "python",
   "pygments_lexer": "ipython3",
   "version": "3.12.0"
  }
 },
 "nbformat": 4,
 "nbformat_minor": 2
}
